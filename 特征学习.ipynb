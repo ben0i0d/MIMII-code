{
 "cells": [
  {
   "cell_type": "markdown",
   "id": "c55cd55c-9686-4dfc-8dfb-f8d29c74d131",
   "metadata": {},
   "source": [
    "安装库"
   ]
  },
  {
   "cell_type": "code",
   "execution_count": 1,
   "id": "f7b0ab53-8c13-4210-ba38-aea4eaece98a",
   "metadata": {
    "scrolled": true
   },
   "outputs": [
    {
     "name": "stdout",
     "output_type": "stream",
     "text": [
      "Looking in indexes: https://mirrors.bfsu.edu.cn/pypi/web/simple\n",
      "Collecting tensorflow\n",
      "  Using cached https://mirrors.bfsu.edu.cn/pypi/web/packages/ed/1a/b4ab4b8f8b3a41fade4899fd00b5b2d2dad0981f3e1bb10df4c522975fd7/tensorflow-2.15.0.post1-cp311-cp311-manylinux_2_17_x86_64.manylinux2014_x86_64.whl (475.3 MB)\n",
      "Collecting absl-py>=1.0.0 (from tensorflow)\n",
      "  Using cached https://mirrors.bfsu.edu.cn/pypi/web/packages/01/e4/dc0a1dcc4e74e08d7abedab278c795eef54a224363bb18f5692f416d834f/absl_py-2.0.0-py3-none-any.whl (130 kB)\n",
      "Collecting astunparse>=1.6.0 (from tensorflow)\n",
      "  Using cached https://mirrors.bfsu.edu.cn/pypi/web/packages/2b/03/13dde6512ad7b4557eb792fbcf0c653af6076b81e5941d36ec61f7ce6028/astunparse-1.6.3-py2.py3-none-any.whl (12 kB)\n",
      "Collecting flatbuffers>=23.5.26 (from tensorflow)\n",
      "  Using cached https://mirrors.bfsu.edu.cn/pypi/web/packages/6f/12/d5c79ee252793ffe845d58a913197bfa02ae9a0b5c9bc3dc4b58d477b9e7/flatbuffers-23.5.26-py2.py3-none-any.whl (26 kB)\n",
      "Collecting gast!=0.5.0,!=0.5.1,!=0.5.2,>=0.2.1 (from tensorflow)\n",
      "  Using cached https://mirrors.bfsu.edu.cn/pypi/web/packages/fa/39/5aae571e5a5f4de9c3445dae08a530498e5c53b0e74410eeeb0991c79047/gast-0.5.4-py3-none-any.whl (19 kB)\n",
      "Collecting google-pasta>=0.1.1 (from tensorflow)\n",
      "  Using cached https://mirrors.bfsu.edu.cn/pypi/web/packages/a3/de/c648ef6835192e6e2cc03f40b19eeda4382c49b5bafb43d88b931c4c74ac/google_pasta-0.2.0-py3-none-any.whl (57 kB)\n",
      "Collecting h5py>=2.9.0 (from tensorflow)\n",
      "  Using cached https://mirrors.bfsu.edu.cn/pypi/web/packages/1e/e9/61d7338e503d63d2ce733373fa86256614f579b173cf3d0571d4f46cb561/h5py-3.10.0-cp311-cp311-manylinux_2_17_x86_64.manylinux2014_x86_64.whl (4.8 MB)\n",
      "Collecting libclang>=13.0.0 (from tensorflow)\n",
      "  Using cached https://mirrors.bfsu.edu.cn/pypi/web/packages/ea/df/55525e489c43f9dbb6c8ea27d8a567b3dcd18a22f3c45483055f5ca6611d/libclang-16.0.6-py2.py3-none-manylinux2010_x86_64.whl (22.9 MB)\n",
      "Collecting ml-dtypes~=0.2.0 (from tensorflow)\n",
      "  Using cached https://mirrors.bfsu.edu.cn/pypi/web/packages/87/91/d57c2d22e4801edeb7f3e7939214c0ea8a28c6e16f85208c2df2145e0213/ml_dtypes-0.2.0-cp311-cp311-manylinux_2_17_x86_64.manylinux2014_x86_64.whl (1.0 MB)\n",
      "Requirement already satisfied: numpy<2.0.0,>=1.23.5 in /opt/conda/lib/python3.11/site-packages (from tensorflow) (1.26.2)\n",
      "Requirement already satisfied: opt-einsum>=2.3.2 in /opt/conda/lib/python3.11/site-packages (from tensorflow) (3.3.0)\n",
      "Requirement already satisfied: packaging in /opt/conda/lib/python3.11/site-packages (from tensorflow) (23.2)\n",
      "Requirement already satisfied: protobuf!=4.21.0,!=4.21.1,!=4.21.2,!=4.21.3,!=4.21.4,!=4.21.5,<5.0.0dev,>=3.20.3 in /opt/conda/lib/python3.11/site-packages (from tensorflow) (4.24.4)\n",
      "Requirement already satisfied: setuptools in /opt/conda/lib/python3.11/site-packages (from tensorflow) (68.2.2)\n",
      "Requirement already satisfied: six>=1.12.0 in /opt/conda/lib/python3.11/site-packages (from tensorflow) (1.16.0)\n",
      "Collecting termcolor>=1.1.0 (from tensorflow)\n",
      "  Using cached https://mirrors.bfsu.edu.cn/pypi/web/packages/d9/5f/8c716e47b3a50cbd7c146f45881e11d9414def768b7cd9c5e6650ec2a80a/termcolor-2.4.0-py3-none-any.whl (7.7 kB)\n",
      "Requirement already satisfied: typing-extensions>=3.6.6 in /opt/conda/lib/python3.11/site-packages (from tensorflow) (4.8.0)\n",
      "Collecting wrapt<1.15,>=1.11.0 (from tensorflow)\n",
      "  Using cached https://mirrors.bfsu.edu.cn/pypi/web/packages/7f/1b/e0439eec0db6520968c751bc7e12480bb80bb8d939190e0e55ed762f3c7a/wrapt-1.14.1-cp311-cp311-manylinux_2_5_x86_64.manylinux1_x86_64.manylinux_2_17_x86_64.manylinux2014_x86_64.whl (78 kB)\n",
      "Collecting tensorflow-io-gcs-filesystem>=0.23.1 (from tensorflow)\n",
      "  Using cached https://mirrors.bfsu.edu.cn/pypi/web/packages/7b/d7/733aed9a2844a3947ef78eb5fbf22c1f64883779891d31a68d09ac7b651e/tensorflow_io_gcs_filesystem-0.35.0-cp311-cp311-manylinux_2_17_x86_64.manylinux2014_x86_64.whl (3.2 MB)\n",
      "Collecting grpcio<2.0,>=1.24.3 (from tensorflow)\n",
      "  Using cached https://mirrors.bfsu.edu.cn/pypi/web/packages/de/01/a8d9bcc59526f22b8fef29c234cc63434f05dae1154d979222c02b31a557/grpcio-1.60.0-cp311-cp311-manylinux_2_17_x86_64.manylinux2014_x86_64.whl (5.4 MB)\n",
      "Collecting tensorboard<2.16,>=2.15 (from tensorflow)\n",
      "  Using cached https://mirrors.bfsu.edu.cn/pypi/web/packages/6e/0c/1059a6682cf2cc1fcc0d5327837b5672fe4f5574255fa5430d0a8ceb75e9/tensorboard-2.15.1-py3-none-any.whl (5.5 MB)\n",
      "Collecting tensorflow-estimator<2.16,>=2.15.0 (from tensorflow)\n",
      "  Using cached https://mirrors.bfsu.edu.cn/pypi/web/packages/b6/c8/2f823c8958d5342eafc6dd3e922f0cc4fcf8c2e0460284cc462dae3b60a0/tensorflow_estimator-2.15.0-py2.py3-none-any.whl (441 kB)\n",
      "Collecting keras<2.16,>=2.15.0 (from tensorflow)\n",
      "  Using cached https://mirrors.bfsu.edu.cn/pypi/web/packages/fc/a7/0d4490de967a67f68a538cc9cdb259bff971c4b5787f7765dc7c8f118f71/keras-2.15.0-py3-none-any.whl (1.7 MB)\n",
      "Requirement already satisfied: wheel<1.0,>=0.23.0 in /opt/conda/lib/python3.11/site-packages (from astunparse>=1.6.0->tensorflow) (0.42.0)\n",
      "Collecting google-auth<3,>=1.6.3 (from tensorboard<2.16,>=2.15->tensorflow)\n",
      "  Using cached https://mirrors.bfsu.edu.cn/pypi/web/packages/93/54/180b2447607fb63c10ba4bed48044b71d112ca83496f96141b65eb278e37/google_auth-2.26.1-py2.py3-none-any.whl (186 kB)\n",
      "Collecting google-auth-oauthlib<2,>=0.5 (from tensorboard<2.16,>=2.15->tensorflow)\n",
      "  Using cached https://mirrors.bfsu.edu.cn/pypi/web/packages/71/bf/9e125754d1adb3bc4bd206c4e5df756513b1d23675ac06caa471278d1f3f/google_auth_oauthlib-1.2.0-py2.py3-none-any.whl (24 kB)\n",
      "Collecting markdown>=2.6.8 (from tensorboard<2.16,>=2.15->tensorflow)\n",
      "  Using cached https://mirrors.bfsu.edu.cn/pypi/web/packages/70/58/2c5a654173937d9f540a4971c569b44dcd55e5424a484d954cdaeebcf79c/Markdown-3.5.1-py3-none-any.whl (102 kB)\n",
      "Collecting protobuf!=4.21.0,!=4.21.1,!=4.21.2,!=4.21.3,!=4.21.4,!=4.21.5,<5.0.0dev,>=3.20.3 (from tensorflow)\n",
      "  Using cached https://mirrors.bfsu.edu.cn/pypi/web/packages/01/cb/445b3e465abdb8042a41957dc8f60c54620dc7540dbcf9b458a921531ca2/protobuf-4.23.4-cp37-abi3-manylinux2014_x86_64.whl (304 kB)\n",
      "Requirement already satisfied: requests<3,>=2.21.0 in /opt/conda/lib/python3.11/site-packages (from tensorboard<2.16,>=2.15->tensorflow) (2.31.0)\n",
      "Collecting tensorboard-data-server<0.8.0,>=0.7.0 (from tensorboard<2.16,>=2.15->tensorflow)\n",
      "  Using cached https://mirrors.bfsu.edu.cn/pypi/web/packages/73/c6/825dab04195756cf8ff2e12698f22513b3db2f64925bdd41671bfb33aaa5/tensorboard_data_server-0.7.2-py3-none-manylinux_2_31_x86_64.whl (6.6 MB)\n",
      "Collecting werkzeug>=1.0.1 (from tensorboard<2.16,>=2.15->tensorflow)\n",
      "  Using cached https://mirrors.bfsu.edu.cn/pypi/web/packages/c3/fc/254c3e9b5feb89ff5b9076a23218dafbc99c96ac5941e900b71206e6313b/werkzeug-3.0.1-py3-none-any.whl (226 kB)\n",
      "Collecting cachetools<6.0,>=2.0.0 (from google-auth<3,>=1.6.3->tensorboard<2.16,>=2.15->tensorflow)\n",
      "  Using cached https://mirrors.bfsu.edu.cn/pypi/web/packages/a2/91/2d843adb9fbd911e0da45fbf6f18ca89d07a087c3daa23e955584f90ebf4/cachetools-5.3.2-py3-none-any.whl (9.3 kB)\n",
      "Collecting pyasn1-modules>=0.2.1 (from google-auth<3,>=1.6.3->tensorboard<2.16,>=2.15->tensorflow)\n",
      "  Using cached https://mirrors.bfsu.edu.cn/pypi/web/packages/cd/8e/bea464350e1b8c6ed0da3a312659cb648804a08af6cacc6435867f74f8bd/pyasn1_modules-0.3.0-py2.py3-none-any.whl (181 kB)\n",
      "Collecting rsa<5,>=3.1.4 (from google-auth<3,>=1.6.3->tensorboard<2.16,>=2.15->tensorflow)\n",
      "  Using cached https://mirrors.bfsu.edu.cn/pypi/web/packages/49/97/fa78e3d2f65c02c8e1268b9aba606569fe97f6c8f7c2d74394553347c145/rsa-4.9-py3-none-any.whl (34 kB)\n",
      "Collecting requests-oauthlib>=0.7.0 (from google-auth-oauthlib<2,>=0.5->tensorboard<2.16,>=2.15->tensorflow)\n",
      "  Using cached https://mirrors.bfsu.edu.cn/pypi/web/packages/6f/bb/5deac77a9af870143c684ab46a7934038a53eb4aa975bc0687ed6ca2c610/requests_oauthlib-1.3.1-py2.py3-none-any.whl (23 kB)\n",
      "Requirement already satisfied: charset-normalizer<4,>=2 in /opt/conda/lib/python3.11/site-packages (from requests<3,>=2.21.0->tensorboard<2.16,>=2.15->tensorflow) (3.3.2)\n",
      "Requirement already satisfied: idna<4,>=2.5 in /opt/conda/lib/python3.11/site-packages (from requests<3,>=2.21.0->tensorboard<2.16,>=2.15->tensorflow) (3.6)\n",
      "Requirement already satisfied: urllib3<3,>=1.21.1 in /opt/conda/lib/python3.11/site-packages (from requests<3,>=2.21.0->tensorboard<2.16,>=2.15->tensorflow) (2.1.0)\n",
      "Requirement already satisfied: certifi>=2017.4.17 in /opt/conda/lib/python3.11/site-packages (from requests<3,>=2.21.0->tensorboard<2.16,>=2.15->tensorflow) (2023.11.17)\n",
      "Requirement already satisfied: MarkupSafe>=2.1.1 in /opt/conda/lib/python3.11/site-packages (from werkzeug>=1.0.1->tensorboard<2.16,>=2.15->tensorflow) (2.1.3)\n",
      "Collecting pyasn1<0.6.0,>=0.4.6 (from pyasn1-modules>=0.2.1->google-auth<3,>=1.6.3->tensorboard<2.16,>=2.15->tensorflow)\n",
      "  Using cached https://mirrors.bfsu.edu.cn/pypi/web/packages/d1/75/4686d2872bf2fc0b37917cbc8bbf0dd3a5cdb0990799be1b9cbf1e1eb733/pyasn1-0.5.1-py2.py3-none-any.whl (84 kB)\n",
      "Requirement already satisfied: oauthlib>=3.0.0 in /opt/conda/lib/python3.11/site-packages (from requests-oauthlib>=0.7.0->google-auth-oauthlib<2,>=0.5->tensorboard<2.16,>=2.15->tensorflow) (3.2.2)\n",
      "Installing collected packages: libclang, flatbuffers, wrapt, werkzeug, termcolor, tensorflow-io-gcs-filesystem, tensorflow-estimator, tensorboard-data-server, pyasn1, protobuf, ml-dtypes, markdown, keras, h5py, grpcio, google-pasta, gast, cachetools, astunparse, absl-py, rsa, requests-oauthlib, pyasn1-modules, google-auth, google-auth-oauthlib, tensorboard, tensorflow\n",
      "  Attempting uninstall: protobuf\n",
      "    Found existing installation: protobuf 4.24.4\n",
      "    Uninstalling protobuf-4.24.4:\n",
      "      Successfully uninstalled protobuf-4.24.4\n",
      "  Attempting uninstall: ml-dtypes\n",
      "    Found existing installation: ml-dtypes 0.3.1\n",
      "    Uninstalling ml-dtypes-0.3.1:\n",
      "      Successfully uninstalled ml-dtypes-0.3.1\n",
      "Successfully installed absl-py-2.0.0 astunparse-1.6.3 cachetools-5.3.2 flatbuffers-23.5.26 gast-0.5.4 google-auth-2.26.1 google-auth-oauthlib-1.2.0 google-pasta-0.2.0 grpcio-1.60.0 h5py-3.10.0 keras-2.15.0 libclang-16.0.6 markdown-3.5.1 ml-dtypes-0.2.0 protobuf-4.23.4 pyasn1-0.5.1 pyasn1-modules-0.3.0 requests-oauthlib-1.3.1 rsa-4.9 tensorboard-2.15.1 tensorboard-data-server-0.7.2 tensorflow-2.15.0.post1 tensorflow-estimator-2.15.0 tensorflow-io-gcs-filesystem-0.35.0 termcolor-2.4.0 werkzeug-3.0.1 wrapt-1.14.1\n"
     ]
    }
   ],
   "source": [
    "!pip install tensorflow"
   ]
  },
  {
   "cell_type": "markdown",
   "id": "715316f2-ac06-4b04-badf-91a82f76cb39",
   "metadata": {},
   "source": [
    "导入库"
   ]
  },
  {
   "cell_type": "code",
   "execution_count": 2,
   "id": "9e956a00-62d3-45b2-880e-7c9f6f77dd70",
   "metadata": {},
   "outputs": [
    {
     "name": "stderr",
     "output_type": "stream",
     "text": [
      "2024-01-09 08:22:26.436294: E external/local_xla/xla/stream_executor/cuda/cuda_dnn.cc:9261] Unable to register cuDNN factory: Attempting to register factory for plugin cuDNN when one has already been registered\n",
      "2024-01-09 08:22:26.436389: E external/local_xla/xla/stream_executor/cuda/cuda_fft.cc:607] Unable to register cuFFT factory: Attempting to register factory for plugin cuFFT when one has already been registered\n",
      "2024-01-09 08:22:26.438016: E external/local_xla/xla/stream_executor/cuda/cuda_blas.cc:1515] Unable to register cuBLAS factory: Attempting to register factory for plugin cuBLAS when one has already been registered\n",
      "2024-01-09 08:22:26.447264: I tensorflow/core/platform/cpu_feature_guard.cc:182] This TensorFlow binary is optimized to use available CPU instructions in performance-critical operations.\n",
      "To enable the following instructions: AVX2 FMA, in other operations, rebuild TensorFlow with the appropriate compiler flags.\n",
      "2024-01-09 08:22:27.810846: W tensorflow/compiler/tf2tensorrt/utils/py_utils.cc:38] TF-TRT Warning: Could not find TensorRT\n"
     ]
    }
   ],
   "source": [
    "import numpy as np\n",
    "import pandas as pd\n",
    "import tensorflow as tf\n",
    "\n",
    "from sklearn.model_selection import train_test_split "
   ]
  },
  {
   "cell_type": "code",
   "execution_count": 3,
   "id": "c0a45ab6-91c2-49f9-a4cd-276a75df6d30",
   "metadata": {},
   "outputs": [],
   "source": [
    "# 该函数接受一个字符串作为参数。使用NumPy中的fromstring函数将输入的字符串转换为NumPy数组。\n",
    "# 用于将mfcc参数恢复为numpy数组\n",
    "def converter(instr):\n",
    "    return np.fromstring(instr[1:-1],sep=' ')"
   ]
  },
  {
   "cell_type": "code",
   "execution_count": 4,
   "id": "6db86eb8-8080-4919-b4c0-76278bceb20c",
   "metadata": {},
   "outputs": [],
   "source": [
    "data=pd.read_csv('data.csv',converters={'mfcc':converter})"
   ]
  },
  {
   "cell_type": "code",
   "execution_count": 5,
   "id": "c06a3064-a84b-49c3-87c8-637da9bb38de",
   "metadata": {
    "scrolled": true
   },
   "outputs": [
    {
     "name": "stdout",
     "output_type": "stream",
     "text": [
      "                                                    mfcc     snr     label  \\\n",
      "0      [-432.0, -408.0, -409.0, -410.0, -406.0, -407....     0dB    normal   \n",
      "1      [-401.0, -380.0, -393.0, -396.0, -394.0, -394....     0dB    normal   \n",
      "2      [-419.0, -388.0, -391.0, -390.0, -388.0, -390....     0dB    normal   \n",
      "3      [-410.0, -387.0, -389.0, -390.0, -394.0, -393....     0dB    normal   \n",
      "4      [-406.0, -381.0, -380.0, -382.0, -381.0, -381....     0dB    normal   \n",
      "...                                                  ...     ...       ...   \n",
      "54051  [-403.0, -383.0, -392.0, -391.0, -392.0, -394....  min6dB  abnormal   \n",
      "54052  [-365.0, -341.0, -342.0, -339.0, -337.0, -338....  min6dB  abnormal   \n",
      "54053  [-342.0, -332.0, -361.0, -357.0, -355.0, -357....  min6dB  abnormal   \n",
      "54054  [-380.0, -356.0, -370.0, -371.0, -370.0, -370....  min6dB  abnormal   \n",
      "54055  [-382.0, -349.0, -344.0, -346.0, -334.0, -315....  min6dB  abnormal   \n",
      "\n",
      "      device  \n",
      "0       pump  \n",
      "1       pump  \n",
      "2       pump  \n",
      "3       pump  \n",
      "4       pump  \n",
      "...      ...  \n",
      "54051    fan  \n",
      "54052    fan  \n",
      "54053    fan  \n",
      "54054    fan  \n",
      "54055    fan  \n",
      "\n",
      "[54056 rows x 4 columns]\n"
     ]
    }
   ],
   "source": [
    "print(data)"
   ]
  },
  {
   "cell_type": "markdown",
   "id": "66e33f01-847d-415e-9683-d84c56aa960f",
   "metadata": {},
   "source": [
    "数据准备与数据集准备"
   ]
  },
  {
   "cell_type": "code",
   "execution_count": 6,
   "id": "294a2491-7ffc-4525-a60e-ecdb750d50c5",
   "metadata": {},
   "outputs": [],
   "source": [
    "# 字符串转数字类型\n",
    "# label列字符串转为数字\n",
    "data['label'] = data['label'].map({'normal': 1, 'abnormal': 0})\n",
    "# device列字符串转为数字\n",
    "data['device'] = data['device'].map({'fan': 1, 'pump': 2, 'slider': 3, 'valve': 4})\n",
    "# snr列字符串转为数字\n",
    "data['snr'] = data['snr'].map({'0dB': 0, '6dB': 1, 'min6dB': -1})"
   ]
  },
  {
   "cell_type": "code",
   "execution_count": 7,
   "id": "81cb873b-0170-46fa-b86e-571b42064d4d",
   "metadata": {},
   "outputs": [
    {
     "name": "stdout",
     "output_type": "stream",
     "text": [
      "                                                    mfcc  snr  label  device\n",
      "0      [-432.0, -408.0, -409.0, -410.0, -406.0, -407....    0      1       2\n",
      "1      [-401.0, -380.0, -393.0, -396.0, -394.0, -394....    0      1       2\n",
      "2      [-419.0, -388.0, -391.0, -390.0, -388.0, -390....    0      1       2\n",
      "3      [-410.0, -387.0, -389.0, -390.0, -394.0, -393....    0      1       2\n",
      "4      [-406.0, -381.0, -380.0, -382.0, -381.0, -381....    0      1       2\n",
      "...                                                  ...  ...    ...     ...\n",
      "54051  [-403.0, -383.0, -392.0, -391.0, -392.0, -394....   -1      0       1\n",
      "54052  [-365.0, -341.0, -342.0, -339.0, -337.0, -338....   -1      0       1\n",
      "54053  [-342.0, -332.0, -361.0, -357.0, -355.0, -357....   -1      0       1\n",
      "54054  [-380.0, -356.0, -370.0, -371.0, -370.0, -370....   -1      0       1\n",
      "54055  [-382.0, -349.0, -344.0, -346.0, -334.0, -315....   -1      0       1\n",
      "\n",
      "[54056 rows x 4 columns]\n"
     ]
    }
   ],
   "source": [
    "#查看结果\n",
    "print(data)"
   ]
  },
  {
   "cell_type": "code",
   "execution_count": 8,
   "id": "4d1f81ad-5397-47c8-a230-762e1fd6f0b2",
   "metadata": {},
   "outputs": [],
   "source": [
    "# 变为numpy数组\n",
    "x = np.array(data.mfcc.tolist())\n",
    "y = np.array(data.label.tolist())"
   ]
  },
  {
   "cell_type": "code",
   "execution_count": 9,
   "id": "38816508-cc5e-4dc4-98e7-f5870e8507a1",
   "metadata": {},
   "outputs": [],
   "source": [
    "# 数据恢复原始tensor模式\n",
    "rows = 40\n",
    "columns = 432\n",
    "channels = 1\n",
    "\n",
    "x = x.reshape(x.shape[0], rows, columns, channels)"
   ]
  },
  {
   "cell_type": "code",
   "execution_count": 10,
   "id": "b3acb8af-c636-40c0-9315-79105793f29d",
   "metadata": {},
   "outputs": [
    {
     "name": "stdout",
     "output_type": "stream",
     "text": [
      "(54056, 40, 432, 1)\n",
      "(54056,)\n"
     ]
    }
   ],
   "source": [
    "print(x.shape)\n",
    "print(y.shape)"
   ]
  },
  {
   "cell_type": "code",
   "execution_count": 11,
   "id": "2fe75194-d14d-4b9d-acb2-d7ec5587bf8a",
   "metadata": {},
   "outputs": [],
   "source": [
    "# split the dataset \n",
    "x_train, x_test, y_train, y_test = train_test_split(x, y, test_size=0.1, random_state = 42)"
   ]
  },
  {
   "cell_type": "code",
   "execution_count": 12,
   "id": "537b943b-5ec4-45c1-b473-83d24b5395be",
   "metadata": {},
   "outputs": [
    {
     "name": "stdout",
     "output_type": "stream",
     "text": [
      "(48650, 40, 432, 1)\n",
      "(48650,)\n",
      "(5406, 40, 432, 1)\n",
      "(5406,)\n"
     ]
    }
   ],
   "source": [
    "print(x_train.shape)\n",
    "print(y_train.shape)\n",
    "print(x_test.shape)\n",
    "print(y_test.shape)"
   ]
  },
  {
   "cell_type": "markdown",
   "id": "77b7bdfd-91a6-4ee1-83fb-989799df4cc6",
   "metadata": {},
   "source": [
    "构建神经网络"
   ]
  },
  {
   "cell_type": "code",
   "execution_count": 13,
   "id": "447510e2-326a-44f3-9405-70142304d14e",
   "metadata": {
    "scrolled": true
   },
   "outputs": [
    {
     "name": "stderr",
     "output_type": "stream",
     "text": [
      "2024-01-09 08:25:45.920025: I external/local_xla/xla/stream_executor/cuda/cuda_executor.cc:901] successful NUMA node read from SysFS had negative value (-1), but there must be at least one NUMA node, so returning NUMA node zero. See more at https://github.com/torvalds/linux/blob/v6.0/Documentation/ABI/testing/sysfs-bus-pci#L344-L355\n",
      "2024-01-09 08:25:45.991404: I external/local_xla/xla/stream_executor/cuda/cuda_executor.cc:901] successful NUMA node read from SysFS had negative value (-1), but there must be at least one NUMA node, so returning NUMA node zero. See more at https://github.com/torvalds/linux/blob/v6.0/Documentation/ABI/testing/sysfs-bus-pci#L344-L355\n",
      "2024-01-09 08:25:45.991787: I external/local_xla/xla/stream_executor/cuda/cuda_executor.cc:901] successful NUMA node read from SysFS had negative value (-1), but there must be at least one NUMA node, so returning NUMA node zero. See more at https://github.com/torvalds/linux/blob/v6.0/Documentation/ABI/testing/sysfs-bus-pci#L344-L355\n",
      "2024-01-09 08:25:45.997674: I external/local_xla/xla/stream_executor/cuda/cuda_executor.cc:901] successful NUMA node read from SysFS had negative value (-1), but there must be at least one NUMA node, so returning NUMA node zero. See more at https://github.com/torvalds/linux/blob/v6.0/Documentation/ABI/testing/sysfs-bus-pci#L344-L355\n",
      "2024-01-09 08:25:45.998017: I external/local_xla/xla/stream_executor/cuda/cuda_executor.cc:901] successful NUMA node read from SysFS had negative value (-1), but there must be at least one NUMA node, so returning NUMA node zero. See more at https://github.com/torvalds/linux/blob/v6.0/Documentation/ABI/testing/sysfs-bus-pci#L344-L355\n",
      "2024-01-09 08:25:45.998332: I external/local_xla/xla/stream_executor/cuda/cuda_executor.cc:901] successful NUMA node read from SysFS had negative value (-1), but there must be at least one NUMA node, so returning NUMA node zero. See more at https://github.com/torvalds/linux/blob/v6.0/Documentation/ABI/testing/sysfs-bus-pci#L344-L355\n",
      "2024-01-09 08:25:46.351852: I external/local_xla/xla/stream_executor/cuda/cuda_executor.cc:901] successful NUMA node read from SysFS had negative value (-1), but there must be at least one NUMA node, so returning NUMA node zero. See more at https://github.com/torvalds/linux/blob/v6.0/Documentation/ABI/testing/sysfs-bus-pci#L344-L355\n",
      "2024-01-09 08:25:46.352317: I external/local_xla/xla/stream_executor/cuda/cuda_executor.cc:901] successful NUMA node read from SysFS had negative value (-1), but there must be at least one NUMA node, so returning NUMA node zero. See more at https://github.com/torvalds/linux/blob/v6.0/Documentation/ABI/testing/sysfs-bus-pci#L344-L355\n",
      "2024-01-09 08:25:46.352755: I external/local_xla/xla/stream_executor/cuda/cuda_executor.cc:901] successful NUMA node read from SysFS had negative value (-1), but there must be at least one NUMA node, so returning NUMA node zero. See more at https://github.com/torvalds/linux/blob/v6.0/Documentation/ABI/testing/sysfs-bus-pci#L344-L355\n",
      "2024-01-09 08:25:46.353019: I tensorflow/core/common_runtime/gpu/gpu_device.cc:1929] Created device /job:localhost/replica:0/task:0/device:GPU:0 with 22264 MB memory:  -> device: 0, name: Tesla P40, pci bus id: 0000:01:00.0, compute capability: 6.1\n"
     ]
    }
   ],
   "source": [
    "# Construct model \n",
    "model = tf.keras.models.Sequential([\n",
    "    tf.keras.layers.Conv2D(filters=16, kernel_size=2, input_shape=(rows, columns, channels), activation='relu'),\n",
    "    tf.keras.layers.MaxPooling2D(pool_size=2),\n",
    "    tf.keras.layers.Dropout(0.2),\n",
    "\n",
    "    tf.keras.layers.Conv2D(filters=32, kernel_size=2, activation='relu'),\n",
    "    tf.keras.layers.MaxPooling2D(pool_size=2),\n",
    "    tf.keras.layers.Dropout(0.2),\n",
    "\n",
    "    tf.keras.layers.Conv2D(filters=64, kernel_size=2, activation='relu'),\n",
    "    tf.keras.layers.MaxPooling2D(pool_size=2),\n",
    "    tf.keras.layers.Dropout(0.2),\n",
    "\n",
    "    tf.keras.layers.Conv2D(filters=128, kernel_size=2, activation='relu'),\n",
    "    tf.keras.layers.MaxPooling2D(pool_size=2),\n",
    "    tf.keras.layers.Dropout(0.2),\n",
    "    tf.keras.layers.GlobalAveragePooling2D(),\n",
    "\n",
    "    tf.keras.layers.Dense(1, activation='softmax')\n",
    "])\n"
   ]
  },
  {
   "cell_type": "code",
   "execution_count": 14,
   "id": "db483ceb-a364-406c-806f-31a7152f93ea",
   "metadata": {},
   "outputs": [],
   "source": [
    "# 编译模型\n",
    "model.compile(loss='binary_crossentropy', metrics=['accuracy'], optimizer='adam')"
   ]
  },
  {
   "cell_type": "code",
   "execution_count": 15,
   "id": "b933f434-dc80-4b24-a30b-c20db374e13d",
   "metadata": {},
   "outputs": [
    {
     "name": "stdout",
     "output_type": "stream",
     "text": [
      "Model: \"sequential\"\n",
      "_________________________________________________________________\n",
      " Layer (type)                Output Shape              Param #   \n",
      "=================================================================\n",
      " conv2d (Conv2D)             (None, 39, 431, 16)       80        \n",
      "                                                                 \n",
      " max_pooling2d (MaxPooling2  (None, 19, 215, 16)       0         \n",
      " D)                                                              \n",
      "                                                                 \n",
      " dropout (Dropout)           (None, 19, 215, 16)       0         \n",
      "                                                                 \n",
      " conv2d_1 (Conv2D)           (None, 18, 214, 32)       2080      \n",
      "                                                                 \n",
      " max_pooling2d_1 (MaxPoolin  (None, 9, 107, 32)        0         \n",
      " g2D)                                                            \n",
      "                                                                 \n",
      " dropout_1 (Dropout)         (None, 9, 107, 32)        0         \n",
      "                                                                 \n",
      " conv2d_2 (Conv2D)           (None, 8, 106, 64)        8256      \n",
      "                                                                 \n",
      " max_pooling2d_2 (MaxPoolin  (None, 4, 53, 64)         0         \n",
      " g2D)                                                            \n",
      "                                                                 \n",
      " dropout_2 (Dropout)         (None, 4, 53, 64)         0         \n",
      "                                                                 \n",
      " conv2d_3 (Conv2D)           (None, 3, 52, 128)        32896     \n",
      "                                                                 \n",
      " max_pooling2d_3 (MaxPoolin  (None, 1, 26, 128)        0         \n",
      " g2D)                                                            \n",
      "                                                                 \n",
      " dropout_3 (Dropout)         (None, 1, 26, 128)        0         \n",
      "                                                                 \n",
      " global_average_pooling2d (  (None, 128)               0         \n",
      " GlobalAveragePooling2D)                                         \n",
      "                                                                 \n",
      " dense (Dense)               (None, 1)                 129       \n",
      "                                                                 \n",
      "=================================================================\n",
      "Total params: 43441 (169.69 KB)\n",
      "Trainable params: 43441 (169.69 KB)\n",
      "Non-trainable params: 0 (0.00 Byte)\n",
      "_________________________________________________________________\n"
     ]
    }
   ],
   "source": [
    "# Display model architecture summary \n",
    "model.summary()"
   ]
  },
  {
   "cell_type": "markdown",
   "id": "2b1dd4d6-9c79-475b-8aad-1672412c17c3",
   "metadata": {},
   "source": [
    "训练神经网络，开始学习特征"
   ]
  },
  {
   "cell_type": "code",
   "execution_count": 16,
   "id": "f3881d9a-c26d-41ac-910d-8d89288bae2a",
   "metadata": {},
   "outputs": [
    {
     "name": "stdout",
     "output_type": "stream",
     "text": [
      "[PhysicalDevice(name='/physical_device:GPU:0', device_type='GPU')]\n"
     ]
    }
   ],
   "source": [
    "# 验证是否正在使用GPU加速\n",
    "print(tf.config.list_physical_devices('GPU'))  "
   ]
  },
  {
   "cell_type": "code",
   "execution_count": 17,
   "id": "5ed882a7-0622-4c8c-baae-91e4d775c03f",
   "metadata": {},
   "outputs": [
    {
     "name": "stderr",
     "output_type": "stream",
     "text": [
      "2024-01-09 08:25:58.324191: W external/local_tsl/tsl/framework/cpu_allocator_impl.cc:83] Allocation of 3362688000 exceeds 10% of free system memory.\n",
      "2024-01-09 08:26:28.132755: W external/local_tsl/tsl/framework/cpu_allocator_impl.cc:83] Allocation of 3362688000 exceeds 10% of free system memory.\n"
     ]
    },
    {
     "name": "stdout",
     "output_type": "stream",
     "text": [
      "Epoch 1/5\n"
     ]
    },
    {
     "name": "stderr",
     "output_type": "stream",
     "text": [
      "2024-01-09 08:26:32.363459: E tensorflow/core/grappler/optimizers/meta_optimizer.cc:961] layout failed: INVALID_ARGUMENT: Size of values 0 does not match size of permutation 4 @ fanin shape insequential/dropout/dropout/SelectV2-2-TransposeNHWCToNCHW-LayoutOptimizer\n",
      "2024-01-09 08:26:33.824226: I external/local_xla/xla/stream_executor/cuda/cuda_dnn.cc:454] Loaded cuDNN version 8902\n",
      "2024-01-09 08:26:41.755414: I external/local_xla/xla/service/service.cc:168] XLA service 0x7f4a79c49390 initialized for platform CUDA (this does not guarantee that XLA will be used). Devices:\n",
      "2024-01-09 08:26:41.755500: I external/local_xla/xla/service/service.cc:176]   StreamExecutor device (0): Tesla P40, Compute Capability 6.1\n",
      "2024-01-09 08:26:41.916523: I tensorflow/compiler/mlir/tensorflow/utils/dump_mlir_util.cc:269] disabling MLIR crash reproducer, set env var `MLIR_CRASH_REPRODUCER_DIRECTORY` to enable.\n",
      "WARNING: All log messages before absl::InitializeLog() is called are written to STDERR\n",
      "I0000 00:00:1704788802.256485     234 device_compiler.h:186] Compiled cluster using XLA!  This line is logged at most once for the lifetime of the process.\n"
     ]
    },
    {
     "name": "stdout",
     "output_type": "stream",
     "text": [
      "1521/1521 [==============================] - 37s 15ms/step - loss: 0.4765 - accuracy: 0.8161 - val_loss: 0.5214 - val_accuracy: 0.8241\n",
      "Epoch 2/5\n",
      "1521/1521 [==============================] - 20s 13ms/step - loss: 0.3432 - accuracy: 0.8161 - val_loss: 0.3614 - val_accuracy: 0.8241\n",
      "Epoch 3/5\n",
      "1521/1521 [==============================] - 21s 14ms/step - loss: 0.2855 - accuracy: 0.8161 - val_loss: 0.2876 - val_accuracy: 0.8241\n",
      "Epoch 4/5\n",
      "1521/1521 [==============================] - 20s 13ms/step - loss: 0.2375 - accuracy: 0.8161 - val_loss: 0.2038 - val_accuracy: 0.8241\n",
      "Epoch 5/5\n",
      "1521/1521 [==============================] - 20s 13ms/step - loss: 0.1961 - accuracy: 0.8161 - val_loss: 0.1679 - val_accuracy: 0.8241\n"
     ]
    },
    {
     "data": {
      "text/plain": [
       "<keras.src.callbacks.History at 0x7f5727e27210>"
      ]
     },
     "execution_count": 17,
     "metadata": {},
     "output_type": "execute_result"
    }
   ],
   "source": [
    "model.fit(x_train, y_train, validation_data=(x_test, y_test), epochs=5)"
   ]
  },
  {
   "cell_type": "markdown",
   "id": "21b0a834-5a42-4dcf-973e-d17fc332efa9",
   "metadata": {},
   "source": [
    "模型评估"
   ]
  },
  {
   "cell_type": "code",
   "execution_count": 18,
   "id": "c563960f-287c-449d-8bbc-4c83471e62fd",
   "metadata": {},
   "outputs": [
    {
     "name": "stdout",
     "output_type": "stream",
     "text": [
      "169/169 [==============================] - 1s 4ms/step - loss: 0.1679 - accuracy: 0.8241\n"
     ]
    }
   ],
   "source": [
    "test_loss, test_accuracy = model.evaluate(x_test, y_test)"
   ]
  },
  {
   "cell_type": "code",
   "execution_count": 19,
   "id": "c13de54c-6822-4411-82a6-d7865fd3c895",
   "metadata": {},
   "outputs": [
    {
     "name": "stdout",
     "output_type": "stream",
     "text": [
      "0.8240843415260315\n"
     ]
    }
   ],
   "source": [
    "print(test_accuracy)"
   ]
  },
  {
   "cell_type": "markdown",
   "id": "0cd4582f-adc5-4f9e-a5cd-8c4e715a779f",
   "metadata": {},
   "source": [
    "导出权重"
   ]
  },
  {
   "cell_type": "code",
   "execution_count": 20,
   "id": "39a1e4d9-42ed-40a5-9ec4-caa93c7f18f7",
   "metadata": {},
   "outputs": [],
   "source": [
    "model.save_weights('mimii_weights.h5')"
   ]
  },
  {
   "cell_type": "code",
   "execution_count": null,
   "id": "4fafa521-edc0-4c5c-84d5-b5af974d88d0",
   "metadata": {},
   "outputs": [],
   "source": []
  },
  {
   "cell_type": "code",
   "execution_count": null,
   "id": "753a16bd-adef-45da-a992-b489796ad54b",
   "metadata": {},
   "outputs": [],
   "source": []
  }
 ],
 "metadata": {
  "kernelspec": {
   "display_name": "Python 3 (ipykernel)",
   "language": "python",
   "name": "python3"
  },
  "language_info": {
   "codemirror_mode": {
    "name": "ipython",
    "version": 3
   },
   "file_extension": ".py",
   "mimetype": "text/x-python",
   "name": "python",
   "nbconvert_exporter": "python",
   "pygments_lexer": "ipython3",
   "version": "3.11.6"
  }
 },
 "nbformat": 4,
 "nbformat_minor": 5
}
